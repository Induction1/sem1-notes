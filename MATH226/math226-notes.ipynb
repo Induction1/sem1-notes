{
 "cells": [
  {
   "cell_type": "markdown",
   "id": "34dd5abd",
   "metadata": {},
   "source": [
    "# Math 226 Notes 9/6"
   ]
  },
  {
   "cell_type": "markdown",
   "id": "9a4f407a",
   "metadata": {},
   "source": [
    "### Vectors and Matrices\n",
    "\n",
    "n-tuple defined for $\\{ \\mathbb{F}^n = (a_1, a_2, \\ldots a_n): a_i \\in \\mathbb{F}, 1 \\leq i \\leq n\\}$.<br>\n",
    "$$\\text{Matrix}_{\\text{n x m}} (\\mathbb{F}) =\n",
    "\\begin{bmatrix}\n",
    "a_{11} & a_{12} & \\ldots \\\\\n",
    "a_{21} & a_{22} & \\ldots \\\\\n",
    "\\vdots & \\vdots & \\ddots\n",
    "\\end{bmatrix}$$"
   ]
  },
  {
   "cell_type": "markdown",
   "id": "5e9f8237",
   "metadata": {},
   "source": [
    "We define $\\bar{0} = [0]_{\\text{n x m}}$ and as the $0$ vector"
   ]
  },
  {
   "cell_type": "markdown",
   "id": "d33bc090",
   "metadata": {},
   "source": [
    "### Polynomials\n",
    "\n",
    "We define $\\mathbb{P}n (\\mathbb{F}) = \\{ f(x) = a_0 + a_1 x + \\ldots a_n x^n, a_1 \\in \\mathbb{F}\\}$<br>\n",
    "We define $\\bar{0} = 0$<br>\n",
    "We define $\\mathbb{P}_\\text{nm}(\\mathbb{F}) = \\{f(x, y) = (a_0 + a_1 x + a_2 x^2)(a_6 + a_3 y + a_4 y^2 + a_5 y^3) : a_i \\in \\mathbb{F} \\}$ "
   ]
  },
  {
   "cell_type": "markdown",
   "id": "3c059dbf",
   "metadata": {},
   "source": [
    "### Subspaces:\n",
    "\n",
    "Let $V$ be a vector space over $\\mathbb{F}$. Then, a subset $W \\subseteq V$ is called a subspace if $W$ is a vector space over $\\mathbb{F}$ with the same operations as $V$. <br>\n",
    "**Remark**: Just becasue $W \\subseteq V \\implies W$ has to hold 1, 2, 5, 6, 7, 8.<br>\n",
    "**Remark**: Empty set is not a subset"
   ]
  },
  {
   "cell_type": "markdown",
   "id": "847926d9",
   "metadata": {},
   "source": [
    "**Theorem**: Let $V$ be a vector space and $W$ be a subset of $V$. Then $W$ is a subspace of $V$ if\n",
    "- $0 \\in W$\n",
    "- $W$ closed under vector addition\n",
    "- $W$ closed under scalar multiplication"
   ]
  },
  {
   "cell_type": "markdown",
   "id": "92fab50e",
   "metadata": {},
   "source": [
    "**Proof**: The second and third points are from the definition of a vector space. For the first point, we already know that $W$ has to have a $0$ element. But because $0$ is unique in $V$, the zero of $W$ must be the $0$ of $V$.<br>\n",
    "\n",
    "Now in reverse, we already know that 1, 2, 5, 6, 7, 8 should hold. Then, from the previous proof, we have implied 0 and 3. We need to show 4, which is trivial because we know that both $a$ and $-a$ are in $W$ for every $a$ in $W$."
   ]
  }
 ],
 "metadata": {
  "kernelspec": {
   "display_name": "Python 3 (ipykernel)",
   "language": "python",
   "name": "python3"
  },
  "language_info": {
   "codemirror_mode": {
    "name": "ipython",
    "version": 3
   },
   "file_extension": ".py",
   "mimetype": "text/x-python",
   "name": "python",
   "nbconvert_exporter": "python",
   "pygments_lexer": "ipython3",
   "version": "3.9.7"
  }
 },
 "nbformat": 4,
 "nbformat_minor": 5
}
