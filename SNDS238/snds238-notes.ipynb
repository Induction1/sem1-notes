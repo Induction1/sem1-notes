{
 "cells": [
  {
   "cell_type": "markdown",
   "id": "ba1198f3",
   "metadata": {},
   "source": [
    "# S&DS 9/5/23"
   ]
  },
  {
   "cell_type": "markdown",
   "id": "e6dc63d5",
   "metadata": {},
   "source": [
    "### R Studio + R language\n",
    "\n",
    "- Introduced and started using R Studio editor\n",
    "- Use `knitr::opts_chunk$set(error = TRUE)` in the beginning to avoid error stopping compilation"
   ]
  },
  {
   "cell_type": "markdown",
   "id": "16e62030",
   "metadata": {},
   "source": [
    "### Birthday Problem\n",
    "\n",
    "There are $k$ people in a room have random birthdays. Find the probability of at least one match among their birthdays.<br>\n",
    "Complement is obviously the solution: $1-\\dfrac{365}{365} \\cdot \\dfrac{364}{365} \\cdot \\dfrac{363}{365} \\ldots$"
   ]
  },
  {
   "cell_type": "markdown",
   "id": "83eed89a",
   "metadata": {},
   "source": [
    "Through R Studio:<br>\n",
    "`k <- 40\n",
    "1-prod(365:(365-k+1))/365^k\n",
    "`"
   ]
  },
  {
   "cell_type": "markdown",
   "id": "e6286648",
   "metadata": {},
   "source": [
    "Creating a function for this:<br>\n",
    "`\n",
    "bday <- function(k){\n",
    "  numvec <- 365:(365-k+1)\n",
    "  return (1-prod(numvec)/365^k)\n",
    "}\n",
    "bday(23)\n",
    "`"
   ]
  }
 ],
 "metadata": {
  "kernelspec": {
   "display_name": "Python 3 (ipykernel)",
   "language": "python",
   "name": "python3"
  },
  "language_info": {
   "codemirror_mode": {
    "name": "ipython",
    "version": 3
   },
   "file_extension": ".py",
   "mimetype": "text/x-python",
   "name": "python",
   "nbconvert_exporter": "python",
   "pygments_lexer": "ipython3",
   "version": "3.9.7"
  }
 },
 "nbformat": 4,
 "nbformat_minor": 5
}
