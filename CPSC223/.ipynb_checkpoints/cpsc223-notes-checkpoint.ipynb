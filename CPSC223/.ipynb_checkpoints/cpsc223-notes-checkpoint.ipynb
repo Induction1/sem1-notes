{
 "cells": [
  {
   "cell_type": "markdown",
   "id": "3e2283eb",
   "metadata": {},
   "source": [
    "# CPSC223 9/5/23"
   ]
  },
  {
   "cell_type": "markdown",
   "id": "53623300",
   "metadata": {},
   "source": [
    "### First test program in C"
   ]
  },
  {
   "cell_type": "code",
   "execution_count": null,
   "id": "6fa624f2",
   "metadata": {},
   "outputs": [],
   "source": [
    "#include <stdio.h>\n",
    "int main(void)\n",
    "{\n",
    "    char answer;\n",
    "    printf(\"Are you ready? \");\n",
    "    scanf(\"%c\", &answer);\n",
    "    if (answer == 'y') {\n",
    "        printf(\"Welcome\");\n",
    "    } else {\n",
    "        printf(\"Maybe later...\");\n",
    "    }\n",
    "    return 0\n",
    "}"
   ]
  },
  {
   "cell_type": "code",
   "execution_count": null,
   "id": "5107fc76",
   "metadata": {},
   "outputs": [],
   "source": [
    "#include <stdio.h>\n",
    "int main() {\n",
    "    printf(\"hi\");\n",
    "}"
   ]
  }
 ],
 "metadata": {
  "kernelspec": {
   "display_name": "C",
   "language": "c",
   "name": "c"
  },
  "language_info": {
   "file_extension": ".c",
   "mimetype": "text/x-csrc",
   "name": "text/x-csrc"
  }
 },
 "nbformat": 4,
 "nbformat_minor": 5
}
