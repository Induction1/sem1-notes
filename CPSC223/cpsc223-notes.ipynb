{
 "cells": [
  {
   "cell_type": "markdown",
   "id": "3e2283eb",
   "metadata": {},
   "source": [
    "# CPSC223 9/5/23"
   ]
  },
  {
   "cell_type": "markdown",
   "id": "53623300",
   "metadata": {},
   "source": [
    "### First test program in C"
   ]
  },
  {
   "cell_type": "code",
   "execution_count": 2,
   "id": "6fa624f2",
   "metadata": {},
   "outputs": [
    {
     "name": "stderr",
     "output_type": "stream",
     "text": [
      "In file included from /var/folders/r3/kv8wvg450xg5yk245fh2cg380000gn/T/tmp49f9k1rb.c:1:\n",
      "/Users/michael/Documents/GitHub/sem1-notes/MATH226/math226-hw/jupyter-c-kernel/jupyter_c_kernel/resources/stdio_wrap.h:29:22: warning: a function declaration without a prototype is deprecated in all versions of C [-Wstrict-prototypes]\n",
      "void flush_all_output() {\n",
      "                     ^\n",
      "                      void\n",
      "/Users/michael/Documents/GitHub/sem1-notes/MATH226/math226-hw/jupyter-c-kernel/jupyter_c_kernel/resources/stdio_wrap.h:36:23: warning: a function declaration without a prototype is deprecated in all versions of C [-Wstrict-prototypes]\n",
      "void attachOutputFlush() {\n",
      "                      ^\n",
      "                       void\n",
      "/Users/michael/Documents/GitHub/sem1-notes/MATH226/math226-hw/jupyter-c-kernel/jupyter_c_kernel/resources/stdio_wrap.h:48:25: warning: a function declaration without a prototype is deprecated in all versions of C [-Wstrict-prototypes]\n",
      "void flush_until_newline() {\n",
      "                        ^\n",
      "                         void\n",
      "/Users/michael/Documents/GitHub/sem1-notes/MATH226/math226-hw/jupyter-c-kernel/jupyter_c_kernel/resources/stdio_wrap.h:128:20: warning: a function declaration without a prototype is deprecated in all versions of C [-Wstrict-prototypes]\n",
      "void readIntoBuffer() {\n",
      "                   ^\n",
      "                    void\n",
      "/Users/michael/Documents/GitHub/sem1-notes/MATH226/math226-hw/jupyter-c-kernel/jupyter_c_kernel/resources/stdio_wrap.h:139:23: warning: a function declaration without a prototype is deprecated in all versions of C [-Wstrict-prototypes]\n",
      "char checkInputRequest() {\n",
      "                      ^\n",
      "                       void\n",
      "/Users/michael/Documents/GitHub/sem1-notes/MATH226/math226-hw/jupyter-c-kernel/jupyter_c_kernel/resources/stdio_wrap.h:245:17: warning: a function declaration without a prototype is deprecated in all versions of C [-Wstrict-prototypes]\n",
      "int getchar_wrap(){\n",
      "                ^\n",
      "                 void\n",
      "/Users/michael/Documents/GitHub/sem1-notes/MATH226/math226-hw/jupyter-c-kernel/jupyter_c_kernel/resources/stdio_wrap.h:279:47: warning: token pasting of ',' and __VA_ARGS__ is a GNU extension [-Wgnu-zero-variadic-macro-arguments]\n",
      "#define scanf(format, ...) scanf_wrap(format, ##__VA_ARGS__, &scanf_wrap_number_read)\n",
      "                                              ^\n",
      "7 warnings generated.\n"
     ]
    },
    {
     "name": "stdout",
     "output_type": "stream",
     "text": [
      "Are you ready? y\n",
      "Welcome"
     ]
    }
   ],
   "source": [
    "#include <stdio.h>\n",
    "int main(void)\n",
    "{\n",
    "    char answer;\n",
    "    printf(\"Are you ready? \");\n",
    "    scanf(\"%c\", &answer);\n",
    "    if (answer == 'y') {\n",
    "        printf(\"Welcome\");\n",
    "    } else {\n",
    "        printf(\"Maybe later...\");\n",
    "    }\n",
    "    return 0;\n",
    "}"
   ]
  },
  {
   "cell_type": "markdown",
   "id": "5e1f9a84",
   "metadata": {},
   "source": [
    "### Make of C Programs\n",
    "\n",
    "Consists of Drivers, .h files, and implementation (integral C)\n",
    "\n",
    "### Arguments\n",
    "\n",
    "- **int argc** is number of arguments (argument count)<br>\n",
    "- **char \\*argv[]** is the value vector of arguments<br>\n",
    "- These values are hidden and automatically done by the compiler.\n",
    "\n",
    "### Memory Types\n",
    "\n",
    "- Memory is composed of many **bytes**<br>\n",
    "- Each byte has an **address** of 8 bits<br>\n",
    "- The **OS** organizes the memory into **blocks**<br>\n",
    "- **C** organizes memory into the **Stack** and **Heap**<br>\n",
    "- Values of each variable are stored on the stack, and everything else is on the heap\n",
    "\n",
    "### Variables and Functions\n",
    "\n",
    "- C has a bunch: int, char, long, float, long long, etc.\n",
    "\n",
    "- Average function:<br>`\n",
    "int sqrt(int x) {\n",
    "    find sqrt...\n",
    "}\n",
    "`"
   ]
  },
  {
   "cell_type": "code",
   "execution_count": null,
   "id": "9aa3c9ad",
   "metadata": {},
   "outputs": [],
   "source": []
  }
 ],
 "metadata": {
  "kernelspec": {
   "display_name": "C",
   "language": "c",
   "name": "c"
  },
  "language_info": {
   "file_extension": ".c",
   "mimetype": "text/x-csrc",
   "name": "text/x-csrc"
  }
 },
 "nbformat": 4,
 "nbformat_minor": 5
}
